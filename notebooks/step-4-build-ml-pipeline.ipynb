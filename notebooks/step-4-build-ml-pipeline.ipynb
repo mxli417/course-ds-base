{
 "cells": [
  {
   "cell_type": "code",
   "execution_count": 1,
   "metadata": {},
   "outputs": [],
   "source": [
    "%load_ext autoreload\n",
    "%autoreload 2\n",
    "\n",
    "import os\n",
    "import sys\n",
    "from pathlib import Path\n",
    "from dotenv import load_dotenv\n",
    "\n",
    "load_dotenv()\n",
    "pythonpath = str(Path(os.getenv(\"PYTHONPATH\")))\n",
    "sys.path.insert(0, pythonpath)"
   ]
  },
  {
   "cell_type": "code",
   "execution_count": 2,
   "metadata": {
    "ExecuteTime": {
     "end_time": "2019-06-16T21:17:31.460557Z",
     "start_time": "2019-06-16T21:17:29.395297Z"
    }
   },
   "outputs": [],
   "source": [
    "import itertools\n",
    "import matplotlib.pyplot as plt\n",
    "import numpy as np\n",
    "import pandas as pd\n",
    "from sklearn.metrics import confusion_matrix, f1_score\n",
    "from sklearn.linear_model import LogisticRegression\n",
    "from sklearn.model_selection import train_test_split\n",
    "import yaml\n",
    "import joblib\n",
    "import json\n",
    "from pprint import pprint\n",
    "\n",
    "# does not really work and / or make sense if \n",
    "from src.report.visualization import plot_confusion_matrix"
   ]
  },
  {
   "cell_type": "markdown",
   "metadata": {},
   "source": [
    "# 1 Config"
   ]
  },
  {
   "cell_type": "code",
   "execution_count": 3,
   "metadata": {},
   "outputs": [
    {
     "name": "stdout",
     "output_type": "stream",
     "text": [
      "{'base': {'log_level': 'INFO', 'random_stage': 42},\n",
      " 'data_load': {'dataset_csv': 'C:/Users/mxmd/Desktop/dvc learning '\n",
      "                              'projects/course-ds-base/data/raw/iris.csv'},\n",
      " 'data_split': {'test_size': 0.2,\n",
      "                'testset_path': 'C:/Users/mxmd/Desktop/dvc learning '\n",
      "                                'projects/course-ds-base/data/processed/test_iris.csv',\n",
      "                'trainset_path': 'C:/Users/mxmd/Desktop/dvc learning '\n",
      "                                 'projects/course-ds-base/data/processed/train_iris.csv'},\n",
      " 'evaluate': {'confusion_matrix_image': 'confusion_matrix.png',\n",
      "              'metrics_file': 'metrics.json',\n",
      "              'reports_dir': 'C:/Users/mxmd/Desktop/dvc learning '\n",
      "                             'projects/course-ds-base/reports'},\n",
      " 'featurize': {'features_path': 'C:/Users/mxmd/Desktop/dvc learning '\n",
      "                                'projects/course-ds-base/data/processed/featured_iris.csv',\n",
      "               'target_column': 'target'},\n",
      " 'train': {'cv': 3,\n",
      "           'estimator_name': 'logreg',\n",
      "           'estimators': {'logreg': {'param_grid': {'C': [0.001],\n",
      "                                                    'max_iter': [100],\n",
      "                                                    'multi_class': ['multinomial'],\n",
      "                                                    'solver': ['lbfgs']}},\n",
      "                          'svm': {'param_grid': {'C': [0.1, 1.0],\n",
      "                                                 'degree': [3, 5],\n",
      "                                                 'gamma': ['scale'],\n",
      "                                                 'kernel': ['rbf', 'linear']}}},\n",
      "           'model_path': 'C:/Users/mxmd/Desktop/dvc learning '\n",
      "                         'projects/course-ds-base/models/model.joblib'}}\n"
     ]
    }
   ],
   "source": [
    "with open(\"../params.yaml\", \"r\") as conf_file:\n",
    "    config = yaml.safe_load(conf_file)\n",
    "\n",
    "pprint(config)"
   ]
  },
  {
   "cell_type": "code",
   "execution_count": 4,
   "metadata": {},
   "outputs": [
    {
     "name": "stdout",
     "output_type": "stream",
     "text": [
      "base:\n",
      "  random_stage: 42\n",
      "  log_level: INFO\n",
      "\n",
      "data_load:\n",
      "  dataset_csv: 'C:/Users/mxmd/Desktop/dvc learning projects/course-ds-base/data/raw/iris.csv'\n",
      "\n",
      "featurize:\n",
      "  features_path: 'C:/Users/mxmd/Desktop/dvc learning projects/course-ds-base/data/processed/featured_iris.csv'\n",
      "  target_column: target\n",
      "\n",
      "data_split:\n",
      "  test_size: 0.2\n",
      "  trainset_path: 'C:/Users/mxmd/Desktop/dvc learning projects/course-ds-base/data/processed/train_iris.csv'\n",
      "  testset_path: 'C:/Users/mxmd/Desktop/dvc learning projects/course-ds-base/data/processed/test_iris.csv'\n",
      "\n",
      "train:\n",
      "\n",
      "  cv: 3\n",
      "  estimator_name: logreg\n",
      "  estimators:\n",
      "    logreg: # sklearn.linear_model.LogisticRegression\n",
      "      param_grid: # params of GridSearchCV constructor\n",
      "        C: [0.001]\n",
      "        max_iter: [100]\n",
      "        solver: ['lbfgs']\n",
      "        multi_class: ['multinomial']\n",
      "    svm: # sklearn.svm.SVC\n",
      "      param_grid:\n",
      "        C: [0.1, 1.0]\n",
      "        kernel: ['rbf', 'linear']\n",
      "        gamma: ['scale']\n",
      "        degree: [3, 5]\n",
      "  model_path: 'C:/Users/mxmd/Desktop/dvc learning projects/course-ds-base/models/model.joblib'\n",
      "\n",
      "\n",
      "evaluate:\n",
      "  reports_dir: 'C:/Users/mxmd/Desktop/dvc learning projects/course-ds-base/reports'\n",
      "  metrics_file: 'metrics.json'\n",
      "  confusion_matrix_image: 'confusion_matrix.png'\n"
     ]
    }
   ],
   "source": [
    "!cat ../params.yaml"
   ]
  },
  {
   "cell_type": "markdown",
   "metadata": {},
   "source": [
    "# 2 Load dataset"
   ]
  },
  {
   "cell_type": "code",
   "execution_count": 6,
   "metadata": {
    "ExecuteTime": {
     "end_time": "2019-06-16T21:17:31.485189Z",
     "start_time": "2019-06-16T21:17:31.473720Z"
    }
   },
   "outputs": [
    {
     "name": "stdout",
     "output_type": "stream",
     "text": [
      "2024-05-10 14:56:25,790 — DATA_LOAD — INFO — Get dataset\n",
      "2024-05-10 14:56:25,797 — DATA_LOAD — INFO — Save raw data\n",
      "Data load complete:    sepal_length  sepal_width  petal_length  petal_width  target\n",
      "0           5.1          3.5           1.4          0.2       0\n",
      "1           4.9          3.0           1.4          0.2       0\n",
      "2           4.7          3.2           1.3          0.2       0\n",
      "3           4.6          3.1           1.5          0.2       0\n",
      "4           5.0          3.6           1.4          0.2       0\n"
     ]
    }
   ],
   "source": [
    "# Get data \n",
    "from src.stages.data_load import data_load\n",
    "\n",
    "data_load(config_path=\"../params.yaml\")\n"
   ]
  },
  {
   "cell_type": "code",
   "execution_count": 7,
   "metadata": {},
   "outputs": [
    {
     "name": "stderr",
     "output_type": "stream",
     "text": [
      "Traceback (most recent call last):\n",
      "  File \"c:\\Users\\mxmd\\Desktop\\dvc learning projects\\course-ds-base\\src\\stages\\data_load.py\", line 4, in <module>\n",
      "    import pandas as pd\n",
      "ModuleNotFoundError: No module named 'pandas'\n"
     ]
    }
   ],
   "source": [
    "!python ..\\src\\stages\\data_load.py --config params.yaml\n"
   ]
  },
  {
   "cell_type": "code",
   "execution_count": 27,
   "metadata": {},
   "outputs": [
    {
     "name": "stdout",
     "output_type": "stream",
     "text": [
      "iris.csv\n"
     ]
    }
   ],
   "source": [
    "%%bash \n",
    "\n",
    "# Raw Iris dataset saved\n",
    "\n",
    "ls ../data/raw"
   ]
  },
  {
   "cell_type": "markdown",
   "metadata": {},
   "source": [
    "# 3 Features engineering"
   ]
  },
  {
   "cell_type": "code",
   "execution_count": 11,
   "metadata": {},
   "outputs": [
    {
     "name": "stdout",
     "output_type": "stream",
     "text": [
      "2024-05-10 14:10:18,207 — FEATURIZE — INFO — Load raw data\n",
      "2024-05-10 14:10:18,219 — FEATURIZE — INFO — Extract features\n",
      "2024-05-10 14:10:18,222 — FEATURIZE — INFO — Save features\n"
     ]
    }
   ],
   "source": [
    "# Get data \n",
    "from src.stages.featurize import featurize\n",
    "\n",
    "featurize(config_path=\"../params.yaml\")"
   ]
  },
  {
   "cell_type": "code",
   "execution_count": null,
   "metadata": {},
   "outputs": [],
   "source": [
    "!python src/stages/featurize.py --config=params.yaml"
   ]
  },
  {
   "cell_type": "code",
   "execution_count": null,
   "metadata": {},
   "outputs": [],
   "source": [
    "# Features.csv file has created\n",
    "\n",
    "!ls data/processed"
   ]
  },
  {
   "cell_type": "markdown",
   "metadata": {},
   "source": [
    "# 4 Split dataset"
   ]
  },
  {
   "cell_type": "code",
   "execution_count": 12,
   "metadata": {
    "ExecuteTime": {
     "end_time": "2019-06-16T21:21:06.361378Z",
     "start_time": "2019-06-16T21:21:06.358647Z"
    }
   },
   "outputs": [
    {
     "name": "stdout",
     "output_type": "stream",
     "text": [
      "2024-05-10 14:10:48,342 — FEATURIZE — INFO — Load raw data\n",
      "2024-05-10 14:10:48,344 — FEATURIZE — INFO — Extract features\n",
      "2024-05-10 14:10:48,347 — FEATURIZE — INFO — Save features\n"
     ]
    }
   ],
   "source": [
    "from src.stages.featurize import featurize\n",
    "\n",
    "featurize(config_path=\"../params.yaml\")"
   ]
  },
  {
   "cell_type": "code",
   "execution_count": null,
   "metadata": {},
   "outputs": [],
   "source": [
    "!python src/stages/data_split.py --config=params.yaml"
   ]
  },
  {
   "cell_type": "code",
   "execution_count": null,
   "metadata": {},
   "outputs": [],
   "source": [
    "!ls data/processed/"
   ]
  },
  {
   "cell_type": "markdown",
   "metadata": {},
   "source": [
    "# 5 Train"
   ]
  },
  {
   "cell_type": "code",
   "execution_count": 16,
   "metadata": {
    "ExecuteTime": {
     "end_time": "2019-06-16T21:21:10.932148Z",
     "start_time": "2019-06-16T21:21:10.927844Z"
    }
   },
   "outputs": [
    {
     "name": "stdout",
     "output_type": "stream",
     "text": [
      "2024-05-10 14:12:32,209 — TRAIN — INFO — Get estimator name\n",
      "2024-05-10 14:12:32,209 — TRAIN — INFO — Estimator: logreg\n",
      "2024-05-10 14:12:32,210 — TRAIN — INFO — Load train dataset\n",
      "2024-05-10 14:12:32,213 — TRAIN — INFO — Train model\n",
      "Fitting 3 folds for each of 1 candidates, totalling 3 fits\n",
      "2024-05-10 14:12:32,269 — TRAIN — INFO — Best score: 0.9916436781609196\n",
      "2024-05-10 14:12:32,269 — TRAIN — INFO — Save model\n"
     ]
    }
   ],
   "source": [
    "from src.stages.train import train_model\n",
    "\n",
    "train_model(config_path=\"../params.yaml\")"
   ]
  },
  {
   "cell_type": "code",
   "execution_count": null,
   "metadata": {},
   "outputs": [],
   "source": [
    "!python src/stages/train.py --config=params.yaml"
   ]
  },
  {
   "cell_type": "code",
   "execution_count": null,
   "metadata": {},
   "outputs": [],
   "source": [
    "# model is created\n",
    "!ls models/"
   ]
  },
  {
   "cell_type": "markdown",
   "metadata": {},
   "source": [
    "# 6 Evaluate"
   ]
  },
  {
   "cell_type": "code",
   "execution_count": 20,
   "metadata": {
    "ExecuteTime": {
     "end_time": "2019-06-16T21:21:56.090756Z",
     "start_time": "2019-06-16T21:21:56.086966Z"
    }
   },
   "outputs": [
    {
     "name": "stdout",
     "output_type": "stream",
     "text": [
      "2024-05-10 14:14:19,693 — EVALUATE — INFO — Load model\n",
      "2024-05-10 14:14:19,701 — EVALUATE — INFO — Load test dataset\n",
      "2024-05-10 14:14:19,708 — EVALUATE — INFO — Evaluate (build report)\n",
      "2024-05-10 14:14:19,715 — EVALUATE — INFO — Save metrics\n",
      "2024-05-10 14:14:19,718 — EVALUATE — INFO — F1 metrics file saved to : C:\\Users\\mxmd\\Desktop\\dvc learning projects\\course-ds-base\\reports\\metrics.json\n",
      "2024-05-10 14:14:19,719 — EVALUATE — INFO — Save confusion matrix\n",
      "2024-05-10 14:14:19,880 — EVALUATE — INFO — Confusion matrix saved to : C:\\Users\\mxmd\\Desktop\\dvc learning projects\\course-ds-base\\reports\\confusion_matrix.png\n"
     ]
    },
    {
     "data": {
      "image/png": "[encoded data removed]",
      "text/plain": [
       "<Figure size 800x600 with 2 Axes>"
      ]
     },
     "metadata": {},
     "output_type": "display_data"
    }
   ],
   "source": [
    "from src.stages.evaluate import evaluate_model\n",
    "\n",
    "evaluate_model(config_path=\"../params.yaml\")"
   ]
  },
  {
   "cell_type": "code",
   "execution_count": 25,
   "metadata": {},
   "outputs": [
    {
     "name": "stderr",
     "output_type": "stream",
     "text": [
      "Traceback (most recent call last):\n",
      "  File \"c:\\Users\\mxmd\\Desktop\\dvc learning projects\\course-ds-base\\src\\stages\\evaluate.py\", line 6, in <module>\n",
      "    import joblib\n",
      "ModuleNotFoundError: No module named 'joblib'\n"
     ]
    }
   ],
   "source": [
    "!python ../src/stages/evaluate.py --config=params.yaml"
   ]
  },
  {
   "cell_type": "code",
   "execution_count": 22,
   "metadata": {},
   "outputs": [
    {
     "name": "stdout",
     "output_type": "stream",
     "text": [
      "{\"f1_score\": 1.0}\n"
     ]
    }
   ],
   "source": [
    "!cat ../reports/metrics.json"
   ]
  },
  {
   "cell_type": "code",
   "execution_count": 24,
   "metadata": {},
   "outputs": [
    {
     "data": {
      "image/png": "[encoded data removed]",
      "text/plain": [
       "<IPython.core.display.Image object>"
      ]
     },
     "execution_count": 24,
     "metadata": {},
     "output_type": "execute_result"
    }
   ],
   "source": [
    "# Display confusion matrix\n",
    "\n",
    "from IPython.display import Image\n",
    "Image('../reports/confusion_matrix.png')"
   ]
  },
  {
   "cell_type": "code",
   "execution_count": null,
   "metadata": {},
   "outputs": [],
   "source": []
  }
 ],
 "metadata": {
  "kernelspec": {
   "display_name": "Python 3 (ipykernel)",
   "language": "python",
   "name": "python3"
  },
  "language_info": {
   "codemirror_mode": {
    "name": "ipython",
    "version": 3
   },
   "file_extension": ".py",
   "mimetype": "text/x-python",
   "name": "python",
   "nbconvert_exporter": "python",
   "pygments_lexer": "ipython3",
   "version": "3.11.9"
  },
  "toc": {
   "base_numbering": 1,
   "nav_menu": {},
   "number_sections": true,
   "sideBar": true,
   "skip_h1_title": false,
   "title_cell": "Table of Contents",
   "title_sidebar": "Contents",
   "toc_cell": false,
   "toc_position": {},
   "toc_section_display": true,
   "toc_window_display": true
  },
  "varInspector": {
   "cols": {
    "lenName": 16,
    "lenType": 16,
    "lenVar": 40
   },
   "kernels_config": {
    "python": {
     "delete_cmd_postfix": "",
     "delete_cmd_prefix": "del ",
     "library": "var_list.py",
     "varRefreshCmd": "print(var_dic_list())"
    },
    "r": {
     "delete_cmd_postfix": ") ",
     "delete_cmd_prefix": "rm(",
     "library": "var_list.r",
     "varRefreshCmd": "cat(var_dic_list()) "
    }
   },
   "types_to_exclude": [
    "module",
    "function",
    "builtin_function_or_method",
    "instance",
    "_Feature"
   ],
   "window_display": false
  }
 },
 "nbformat": 4,
 "nbformat_minor": 4
}
